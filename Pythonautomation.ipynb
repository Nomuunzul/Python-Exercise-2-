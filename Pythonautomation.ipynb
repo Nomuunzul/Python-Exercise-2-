{
 "cells": [
  {
   "cell_type": "markdown",
   "id": "d971f838",
   "metadata": {},
   "source": [
    "# Python Excel Automation"
   ]
  },
  {
   "cell_type": "code",
   "execution_count": 167,
   "id": "53057ac8",
   "metadata": {},
   "outputs": [
    {
     "name": "stdout",
     "output_type": "stream",
     "text": [
      "Defaulting to user installation because normal site-packages is not writeable\n",
      "Requirement already satisfied: glob2 in c:\\programdata\\anaconda3\\lib\\site-packages (0.7)\n"
     ]
    }
   ],
   "source": [
    "!pip3 install glob2"
   ]
  },
  {
   "cell_type": "code",
   "execution_count": 168,
   "id": "91b73ba2",
   "metadata": {},
   "outputs": [],
   "source": [
    "import pandas as pd\n",
    "import glob #to look different files accross directories\n",
    "from openpyxl import load_workbook\n",
    "from openpyxl.styles import Font\n",
    "from openpyxl.chart import BarChart, Reference"
   ]
  },
  {
   "cell_type": "code",
   "execution_count": 224,
   "id": "62538e4a",
   "metadata": {},
   "outputs": [],
   "source": [
    "file_path = r\"\\Users\\Nomuun\\Documents\\Jupiter\\Python-exercise (2)\\Python excel automation\\ExcelMagic\\*.xlsx\" \n",
    "#adding * to not speficically define file name but also able to define extension of the file we are looking for"
   ]
  },
  {
   "cell_type": "code",
   "execution_count": 225,
   "id": "7e58856d",
   "metadata": {},
   "outputs": [],
   "source": [
    "files = glob.glob(file_path) \n",
    "#iterating through files and put into files folder"
   ]
  },
  {
   "cell_type": "code",
   "execution_count": 226,
   "id": "1ea17f09",
   "metadata": {},
   "outputs": [
    {
     "name": "stdout",
     "output_type": "stream",
     "text": [
      "['\\\\Users\\\\Nomuun\\\\Documents\\\\Jupiter\\\\Python-exercise (2)\\\\Python excel automation\\\\ExcelMagic\\\\Aziz.xlsx', '\\\\Users\\\\Nomuun\\\\Documents\\\\Jupiter\\\\Python-exercise (2)\\\\Python excel automation\\\\ExcelMagic\\\\Calvin.xlsx', '\\\\Users\\\\Nomuun\\\\Documents\\\\Jupiter\\\\Python-exercise (2)\\\\Python excel automation\\\\ExcelMagic\\\\Clara.xlsx', '\\\\Users\\\\Nomuun\\\\Documents\\\\Jupiter\\\\Python-exercise (2)\\\\Python excel automation\\\\ExcelMagic\\\\Deepika.xlsx', '\\\\Users\\\\Nomuun\\\\Documents\\\\Jupiter\\\\Python-exercise (2)\\\\Python excel automation\\\\ExcelMagic\\\\Doug.xlsx', '\\\\Users\\\\Nomuun\\\\Documents\\\\Jupiter\\\\Python-exercise (2)\\\\Python excel automation\\\\ExcelMagic\\\\Linda.xlsx', '\\\\Users\\\\Nomuun\\\\Documents\\\\Jupiter\\\\Python-exercise (2)\\\\Python excel automation\\\\ExcelMagic\\\\Sidney.xlsx']\n"
     ]
    }
   ],
   "source": [
    "print(files)"
   ]
  },
  {
   "cell_type": "code",
   "execution_count": 229,
   "id": "9c52d8cf",
   "metadata": {},
   "outputs": [
    {
     "name": "stderr",
     "output_type": "stream",
     "text": [
      "C:\\Users\\Nomuun\\AppData\\Local\\Temp\\ipykernel_9788\\2836009395.py:6: FutureWarning: The default value of regex will change from True to False in a future version.\n",
      "  tempdf['Name'] = tempdf[\"Name\"].str.replace('.xlsx', '')\n",
      "C:\\Users\\Nomuun\\AppData\\Local\\Temp\\ipykernel_9788\\2836009395.py:7: FutureWarning: The frame.append method is deprecated and will be removed from pandas in a future version. Use pandas.concat instead.\n",
      "  df = df.append(tempdf, ignore_index = True)\n",
      "C:\\Users\\Nomuun\\AppData\\Local\\Temp\\ipykernel_9788\\2836009395.py:6: FutureWarning: The default value of regex will change from True to False in a future version.\n",
      "  tempdf['Name'] = tempdf[\"Name\"].str.replace('.xlsx', '')\n",
      "C:\\Users\\Nomuun\\AppData\\Local\\Temp\\ipykernel_9788\\2836009395.py:7: FutureWarning: The frame.append method is deprecated and will be removed from pandas in a future version. Use pandas.concat instead.\n",
      "  df = df.append(tempdf, ignore_index = True)\n",
      "C:\\Users\\Nomuun\\AppData\\Local\\Temp\\ipykernel_9788\\2836009395.py:6: FutureWarning: The default value of regex will change from True to False in a future version.\n",
      "  tempdf['Name'] = tempdf[\"Name\"].str.replace('.xlsx', '')\n",
      "C:\\Users\\Nomuun\\AppData\\Local\\Temp\\ipykernel_9788\\2836009395.py:7: FutureWarning: The frame.append method is deprecated and will be removed from pandas in a future version. Use pandas.concat instead.\n",
      "  df = df.append(tempdf, ignore_index = True)\n",
      "C:\\Users\\Nomuun\\AppData\\Local\\Temp\\ipykernel_9788\\2836009395.py:6: FutureWarning: The default value of regex will change from True to False in a future version.\n",
      "  tempdf['Name'] = tempdf[\"Name\"].str.replace('.xlsx', '')\n",
      "C:\\Users\\Nomuun\\AppData\\Local\\Temp\\ipykernel_9788\\2836009395.py:7: FutureWarning: The frame.append method is deprecated and will be removed from pandas in a future version. Use pandas.concat instead.\n",
      "  df = df.append(tempdf, ignore_index = True)\n",
      "C:\\Users\\Nomuun\\AppData\\Local\\Temp\\ipykernel_9788\\2836009395.py:6: FutureWarning: The default value of regex will change from True to False in a future version.\n",
      "  tempdf['Name'] = tempdf[\"Name\"].str.replace('.xlsx', '')\n",
      "C:\\Users\\Nomuun\\AppData\\Local\\Temp\\ipykernel_9788\\2836009395.py:7: FutureWarning: The frame.append method is deprecated and will be removed from pandas in a future version. Use pandas.concat instead.\n",
      "  df = df.append(tempdf, ignore_index = True)\n",
      "C:\\Users\\Nomuun\\AppData\\Local\\Temp\\ipykernel_9788\\2836009395.py:6: FutureWarning: The default value of regex will change from True to False in a future version.\n",
      "  tempdf['Name'] = tempdf[\"Name\"].str.replace('.xlsx', '')\n",
      "C:\\Users\\Nomuun\\AppData\\Local\\Temp\\ipykernel_9788\\2836009395.py:7: FutureWarning: The frame.append method is deprecated and will be removed from pandas in a future version. Use pandas.concat instead.\n",
      "  df = df.append(tempdf, ignore_index = True)\n"
     ]
    },
    {
     "name": "stdout",
     "output_type": "stream",
     "text": [
      "         Item  Price       Date    Name\n",
      "0       Pants    677 2021-03-20    Aziz\n",
      "1        Coat   8560 2021-07-22    Aziz\n",
      "2     Sweater   9144 2021-12-01    Aziz\n",
      "3       Dress   6890 2021-09-19    Aziz\n",
      "4     Sweater   1149 2021-03-30    Aziz\n",
      "...       ...    ...        ...     ...\n",
      "6995     Coat    271 2021-02-24  Sidney\n",
      "6996    Pants   7235 2021-06-12  Sidney\n",
      "6997     Coat   3546 2021-03-13  Sidney\n",
      "6998    Pants   7754 2021-10-10  Sidney\n",
      "6999  Sweater   6556 2021-10-18  Sidney\n",
      "\n",
      "[7000 rows x 4 columns]\n"
     ]
    },
    {
     "name": "stderr",
     "output_type": "stream",
     "text": [
      "C:\\Users\\Nomuun\\AppData\\Local\\Temp\\ipykernel_9788\\2836009395.py:6: FutureWarning: The default value of regex will change from True to False in a future version.\n",
      "  tempdf['Name'] = tempdf[\"Name\"].str.replace('.xlsx', '')\n",
      "C:\\Users\\Nomuun\\AppData\\Local\\Temp\\ipykernel_9788\\2836009395.py:7: FutureWarning: The frame.append method is deprecated and will be removed from pandas in a future version. Use pandas.concat instead.\n",
      "  df = df.append(tempdf, ignore_index = True)\n"
     ]
    }
   ],
   "source": [
    "df = pd.DataFrame()\n",
    "for file in files:\n",
    "    tempdf = pd.read_excel(file)\n",
    "    tempdf['Name'] = file\n",
    "    tempdf['Name'] = (tempdf[\"Name\"].str[87:])\n",
    "    tempdf['Name'] = tempdf[\"Name\"].str.replace('.xlsx', '')\n",
    "    df = df.append(tempdf, ignore_index = True)\n",
    "print(df)"
   ]
  },
  {
   "cell_type": "code",
   "execution_count": 231,
   "id": "83f93436",
   "metadata": {},
   "outputs": [
    {
     "name": "stdout",
     "output_type": "stream",
     "text": [
      "Date           1        2        3        4\n",
      "Name                                       \n",
      "Aziz     1311558  1195482  1197954  1310841\n",
      "Calvin   1189854  1352481  1210920  1189735\n",
      "Clara    1095722  1354036  1335377  1255785\n",
      "Deepika  1238624  1252230  1358660  1157323\n",
      "Doug     1137157  1228634  1246541  1408456\n",
      "Linda    1166886  1368825  1219473  1290509\n",
      "Sidney   1344438  1139676  1218294  1387979\n"
     ]
    }
   ],
   "source": [
    "pivot = pd.pivot_table(\n",
    "    data = df, index = 'Name', columns = df['Date'].dt.quarter, values = 'Price',\n",
    "    aggfunc = 'sum'\n",
    "    )\n",
    "print(pivot)"
   ]
  },
  {
   "cell_type": "code",
   "execution_count": 233,
   "id": "23c067af",
   "metadata": {},
   "outputs": [],
   "source": [
    "save_file_path = r\"\\Users\\Nomuun\\Documents\\Jupiter\\Python-exercise (2)\\Python excel automation\\ExcelMagic\\Combined.xlsx\"\n",
    "pivot.to_excel(save_file_path, sheet_name = 'Summary')"
   ]
  },
  {
   "cell_type": "code",
   "execution_count": 235,
   "id": "e33d8ff3",
   "metadata": {},
   "outputs": [],
   "source": [
    "wb = load_workbook(save_file_path)\n",
    "sheet = wb['Summary']"
   ]
  },
  {
   "cell_type": "code",
   "execution_count": 237,
   "id": "46bd8b9a",
   "metadata": {},
   "outputs": [],
   "source": [
    "for col in ['B', 'C', 'D','E']:\n",
    "    for row in range (2,9):\n",
    "        sheet[f'{col}{row}'].style = 'Currency'\n",
    "\n",
    "#converted to currency"
   ]
  },
  {
   "cell_type": "code",
   "execution_count": 238,
   "id": "83c45271",
   "metadata": {},
   "outputs": [],
   "source": [
    "bar_graph = BarChart()\n",
    "data = Reference(sheet, min_col = 2, max_col = 5, min_row = 1, max_row = 8)\n",
    "categories = Reference(sheet, min_col = 1, max_col = 1, min_row = 2, max_row = 8)\n",
    "bar_graph.add_data(data, titles_from_data = True)\n",
    "bar_graph.set_categories(categories)\n",
    "bar_graph.title = \"Sales by Person by Quarter\"\n",
    "sheet.add_chart(bar_graph, 'F2')"
   ]
  },
  {
   "cell_type": "code",
   "execution_count": 239,
   "id": "b4546649",
   "metadata": {},
   "outputs": [],
   "source": [
    "wb.save(save_file_path)"
   ]
  },
  {
   "cell_type": "code",
   "execution_count": null,
   "id": "87cddad3",
   "metadata": {},
   "outputs": [],
   "source": []
  },
  {
   "cell_type": "code",
   "execution_count": null,
   "id": "c1d0570a",
   "metadata": {},
   "outputs": [],
   "source": []
  },
  {
   "cell_type": "code",
   "execution_count": null,
   "id": "124cc33f",
   "metadata": {},
   "outputs": [],
   "source": []
  }
 ],
 "metadata": {
  "kernelspec": {
   "display_name": "Python 3 (ipykernel)",
   "language": "python",
   "name": "python3"
  },
  "language_info": {
   "codemirror_mode": {
    "name": "ipython",
    "version": 3
   },
   "file_extension": ".py",
   "mimetype": "text/x-python",
   "name": "python",
   "nbconvert_exporter": "python",
   "pygments_lexer": "ipython3",
   "version": "3.9.12"
  }
 },
 "nbformat": 4,
 "nbformat_minor": 5
}
